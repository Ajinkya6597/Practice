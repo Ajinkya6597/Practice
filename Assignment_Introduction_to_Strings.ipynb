{
  "nbformat": 4,
  "nbformat_minor": 0,
  "metadata": {
    "kernelspec": {
      "display_name": "Python 3",
      "language": "python",
      "name": "python3"
    },
    "language_info": {
      "codemirror_mode": {
        "name": "ipython",
        "version": 3
      },
      "file_extension": ".py",
      "mimetype": "text/x-python",
      "name": "python",
      "nbconvert_exporter": "python",
      "pygments_lexer": "ipython3",
      "version": "3.7.4"
    },
    "colab": {
      "provenance": [],
      "include_colab_link": true
    }
  },
  "cells": [
    {
      "cell_type": "markdown",
      "metadata": {
        "id": "view-in-github",
        "colab_type": "text"
      },
      "source": [
        "<a href=\"https://colab.research.google.com/github/Ajinkya6597/Practice/blob/main/Assignment_Introduction_to_Strings.ipynb\" target=\"_parent\"><img src=\"https://colab.research.google.com/assets/colab-badge.svg\" alt=\"Open In Colab\"/></a>"
      ]
    },
    {
      "cell_type": "markdown",
      "metadata": {
        "id": "uoGoqLiHFo3U"
      },
      "source": [
        "## <u>While doing this assignment only use those concepts which have been taught till now</u>"
      ]
    },
    {
      "cell_type": "markdown",
      "metadata": {
        "id": "LJJbprE6Fo3V"
      },
      "source": [
        "## <u>Problem 1</u>\n",
        "\n",
        "You are given a sentence which reads <b>\"Wikipedia is a free online encyclopedia, created and edited by volunteers around the world and hosted by the Wikimedia Foundation.\"</b>\n",
        "\n",
        "Find the number of words in the given sentence."
      ]
    },
    {
      "cell_type": "code",
      "metadata": {
        "id": "bNs1w7lDFo3W"
      },
      "source": [
        "# Store the given sentence in a variable\n",
        "sentence = \"Wikipedia is a free online encyclopedia, created and edited by volunteers around the world and hosted by the Wikimedia Foundation.\""
      ],
      "execution_count": 23,
      "outputs": []
    },
    {
      "cell_type": "code",
      "metadata": {
        "id": "0pwUoE0VFo3b"
      },
      "source": [
        "# Calculate the total number of words in the sentence.  Hint : Use the count() method\n",
        "num_of_words = len(sentence.split(' '))"
      ],
      "execution_count": 24,
      "outputs": []
    },
    {
      "cell_type": "code",
      "metadata": {
        "id": "Fb7lWgHY0g_X",
        "outputId": "7d55baa7-cfc8-45f1-9630-53cbd8d5f46f",
        "colab": {
          "base_uri": "https://localhost:8080/"
        }
      },
      "source": [
        "# Print the variable num_of_words\n",
        "print(num_of_words)"
      ],
      "execution_count": 25,
      "outputs": [
        {
          "output_type": "stream",
          "name": "stdout",
          "text": [
            "20\n"
          ]
        }
      ]
    },
    {
      "cell_type": "markdown",
      "metadata": {
        "id": "KNwy8gqZFo3h"
      },
      "source": [
        "## <u>Problem 2 </u>\n",
        "\n",
        "Write a Python code which takes a number and returns a corresponding string of hyphens. For example if the number is 3, it will return '---' , if the number is 5 it will return '-----'"
      ]
    },
    {
      "cell_type": "code",
      "metadata": {
        "id": "pA80LvUtFo3i",
        "colab": {
          "base_uri": "https://localhost:8080/"
        },
        "outputId": "8e220c94-7cac-4273-a435-26fa1a72f98b"
      },
      "source": [
        "# Store the user input in a variable\n",
        "inputted_number = int(input())"
      ],
      "execution_count": 18,
      "outputs": [
        {
          "name": "stdout",
          "output_type": "stream",
          "text": [
            "100\n"
          ]
        }
      ]
    },
    {
      "cell_type": "code",
      "metadata": {
        "id": "tX6VPyrQFo3m"
      },
      "source": [
        "# Create a string of equivalent number of hyphens. Hint : remember what happens when we multiply string by a number?\n",
        "string_of_hyphens = '-'*inputted_number"
      ],
      "execution_count": 21,
      "outputs": []
    },
    {
      "cell_type": "code",
      "metadata": {
        "id": "AfJ1TmZVFo3s",
        "outputId": "2fe09e0b-f9ec-4bf3-bf66-89d45b39cc35",
        "colab": {
          "base_uri": "https://localhost:8080/"
        }
      },
      "source": [
        "# Print the string of hyphens\n",
        "print(string_of_hyphens)"
      ],
      "execution_count": 22,
      "outputs": [
        {
          "output_type": "stream",
          "name": "stdout",
          "text": [
            "----------------------------------------------------------------------------------------------------\n"
          ]
        }
      ]
    },
    {
      "cell_type": "markdown",
      "metadata": {
        "id": "hCG8HmhRFo3u"
      },
      "source": [
        "## <u> Problem 3 </u>\n",
        "\n",
        "A string can be called a safe bridge if it has no gaps in it i.e, no spaces. You are supposed to take an input from the user and print whether the string is a safe bridge or not."
      ]
    },
    {
      "cell_type": "code",
      "metadata": {
        "id": "QLoggGagFo3x",
        "outputId": "a3bf4b13-964a-4fb5-ff82-04fa1c78e44e",
        "colab": {
          "base_uri": "https://localhost:8080/"
        }
      },
      "source": [
        "# Store the user input in a variable\n",
        "bridge = input()"
      ],
      "execution_count": 15,
      "outputs": [
        {
          "name": "stdout",
          "output_type": "stream",
          "text": [
            "ajinkya shingote\n"
          ]
        }
      ]
    },
    {
      "cell_type": "code",
      "metadata": {
        "id": "Zv5UgGr8Fo31"
      },
      "source": [
        "# Return True if the bridge is safe and False if the bridge is not safe. Hint : Use the find() method\n",
        "is_safe_bridge = [True if ' ' not in bridge else False]"
      ],
      "execution_count": 16,
      "outputs": []
    },
    {
      "cell_type": "code",
      "metadata": {
        "id": "TBCckeOXFo35",
        "outputId": "6f7b4f15-93de-46b3-833a-053a24ce584a",
        "colab": {
          "base_uri": "https://localhost:8080/"
        }
      },
      "source": [
        "# Fill in the blanks\n",
        "print(f\"It is {is_safe_bridge} that the bridge is a safe bridge\" )"
      ],
      "execution_count": 17,
      "outputs": [
        {
          "output_type": "stream",
          "name": "stdout",
          "text": [
            "It is [False] that the bridge is a safe bridge\n"
          ]
        }
      ]
    },
    {
      "cell_type": "markdown",
      "metadata": {
        "id": "IO-p2ILHFo37"
      },
      "source": [
        "## <u>Problem 4</u>\n",
        "\n",
        "Count the number of D's in a string inputted by the user. This will be <b>case insensitive</b>."
      ]
    },
    {
      "cell_type": "code",
      "metadata": {
        "id": "CBqgtmkhFo38"
      },
      "source": [
        "# Store the user input in a variable\n",
        "user_string = 'Debris was scattered all over the yard in the densest region of Denmark'"
      ],
      "execution_count": 13,
      "outputs": []
    },
    {
      "cell_type": "code",
      "metadata": {
        "id": "-nKePpRMFo3-",
        "outputId": "b9e6d38a-03bf-4068-a118-12e4d2881164",
        "colab": {
          "base_uri": "https://localhost:8080/"
        }
      },
      "source": [
        "# Store the count of letter D in the inputted string. Note this will be a case insensitive search\n",
        "a=user_string.lower()\n",
        "D_counts = a.count('d')\n",
        "print(D_counts)"
      ],
      "execution_count": 14,
      "outputs": [
        {
          "output_type": "stream",
          "name": "stdout",
          "text": [
            "5\n"
          ]
        }
      ]
    },
    {
      "cell_type": "code",
      "metadata": {
        "id": "N9IXUH5AFo4A"
      },
      "source": [
        "# Fill in the blanks\n",
        "print(f\"The total occurrence of D in the user_string is {}\")"
      ],
      "execution_count": null,
      "outputs": []
    },
    {
      "cell_type": "markdown",
      "metadata": {
        "id": "e40-mPXjFo4D"
      },
      "source": [
        "## <u>Problem 5</u>\n",
        "\n",
        "Check whether a given string is a palindrome. A palindrome is a word, number, phrase, or other sequence of characters which reads the same backward as forward, such as madam, racecar."
      ]
    },
    {
      "cell_type": "code",
      "metadata": {
        "id": "qs0ZYZkzFo4D",
        "colab": {
          "base_uri": "https://localhost:8080/",
          "height": 34
        },
        "outputId": "0495ca1d-90ea-4cff-d6a3-52765ec9922d"
      },
      "source": [
        "# Store the user input in a variable\n",
        "user_string = input()"
      ],
      "execution_count": null,
      "outputs": [
        {
          "output_type": "stream",
          "text": [
            "gbh\n"
          ],
          "name": "stdout"
        }
      ]
    },
    {
      "cell_type": "code",
      "metadata": {
        "id": "OTVGL16NFo4G"
      },
      "source": [
        "# Print True if a string is a Palindrome else print false\n",
        "def check_palindrome(a):\n",
        " b=a.lower()\n",
        " if b == b[::-1]:\n",
        "   return True\n",
        " else:\n",
        "   return False  "
      ],
      "execution_count": 10,
      "outputs": []
    },
    {
      "cell_type": "code",
      "source": [
        "str1='Madam'\n",
        "print(check_palindrome(str1))"
      ],
      "metadata": {
        "id": "_OB4j86WvSgq",
        "outputId": "0231bf87-c738-407a-94c8-4c044721dfa9",
        "colab": {
          "base_uri": "https://localhost:8080/"
        }
      },
      "execution_count": 11,
      "outputs": [
        {
          "output_type": "stream",
          "name": "stdout",
          "text": [
            "True\n"
          ]
        }
      ]
    }
  ]
}