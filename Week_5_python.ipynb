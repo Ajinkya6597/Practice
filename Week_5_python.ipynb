{
  "nbformat": 4,
  "nbformat_minor": 0,
  "metadata": {
    "colab": {
      "provenance": [],
      "authorship_tag": "ABX9TyOA7Z6bCmOcYHXdcZRn0LAa",
      "include_colab_link": true
    },
    "kernelspec": {
      "name": "python3",
      "display_name": "Python 3"
    },
    "language_info": {
      "name": "python"
    }
  },
  "cells": [
    {
      "cell_type": "markdown",
      "metadata": {
        "id": "view-in-github",
        "colab_type": "text"
      },
      "source": [
        "<a href=\"https://colab.research.google.com/github/Ajinkya6597/Practice/blob/main/Week_5_python.ipynb\" target=\"_parent\"><img src=\"https://colab.research.google.com/assets/colab-badge.svg\" alt=\"Open In Colab\"/></a>"
      ]
    },
    {
      "cell_type": "markdown",
      "source": [
        "1. Write a Python program to print even length words in a string using list comprehension\n",
        "\n",
        "\n",
        "Example 1:\n",
        "Input:\n",
        "I am working at Almabetter\n",
        "\n",
        "Output:\n",
        "['am', 'at', 'Almabetter']"
      ],
      "metadata": {
        "id": "YxoT7liHR8gn"
      }
    },
    {
      "cell_type": "code",
      "source": [
        "str1='i am working at almabetter'"
      ],
      "metadata": {
        "id": "MwNHqMH2SbCk"
      },
      "execution_count": 3,
      "outputs": []
    },
    {
      "cell_type": "code",
      "source": [
        "even_len_words=[word for word in str1.split(' ') if len(word)%2==0]"
      ],
      "metadata": {
        "id": "pj1o96SdR_c_"
      },
      "execution_count": 4,
      "outputs": []
    },
    {
      "cell_type": "code",
      "source": [
        "print(even_len_words)"
      ],
      "metadata": {
        "colab": {
          "base_uri": "https://localhost:8080/"
        },
        "id": "52X2abnlS0wp",
        "outputId": "3feeca0a-f622-4cbc-dad4-c001e9b760e8"
      },
      "execution_count": 5,
      "outputs": [
        {
          "output_type": "stream",
          "name": "stdout",
          "text": [
            "['am', 'at', 'almabetter']\n"
          ]
        }
      ]
    },
    {
      "cell_type": "markdown",
      "source": [
        "**2. Write a python program to divide a list in halves, reverse each halve and concatenate both.**\n",
        "\n",
        "\n",
        "Example 1:\n",
        "Input:\n",
        "[1, 2, 3, 4, 5, 6, 7, 8]\n",
        "\n",
        "Output:\n",
        "[4, 3, 2, 1, 8, 7, 6, 5]\n",
        "\n",
        "Explanation:\n",
        "Input List:[1, 2, 3, 4, 5, 6, 7, 8]\n",
        "\n",
        "Splitted Lists: [1, 2, 3, 4] [5, 6, 7, 8]\n",
        "\n",
        "Reversed list 1: [4, 3, 2, 1]\n",
        "\n",
        "Reversed list 2: [8, 7, 6, 5]\n",
        "\n",
        "Concatenated list: [4, 3, 2, 1, 8, 7, 6, 5]"
      ],
      "metadata": {
        "id": "wUugAM4xS9vb"
      }
    },
    {
      "cell_type": "code",
      "source": [
        " Input = [1, 2, 3, 4, 5, 6, 7, 8]"
      ],
      "metadata": {
        "id": "IhmIQipuTRSn"
      },
      "execution_count": 6,
      "outputs": []
    },
    {
      "cell_type": "code",
      "source": [
        "list1 = [Input[i] for i in range(len(Input)) if i < len(Input)/2 ]\n",
        "list2 = [Input[i] for i in range(len(Input)) if i >= len(Input)/2 ]\n",
        "list3=[]\n",
        "list3.extend(reversed(list1))\n",
        "list3.extend(reversed(list2))\n",
        "print(list3)"
      ],
      "metadata": {
        "colab": {
          "base_uri": "https://localhost:8080/"
        },
        "id": "cChWy7MKTzQ7",
        "outputId": "0b03e6b8-34f2-4301-bb98-7d28c5120549"
      },
      "execution_count": 11,
      "outputs": [
        {
          "output_type": "stream",
          "name": "stdout",
          "text": [
            "[4, 3, 2, 1, 8, 7, 6, 5]\n"
          ]
        }
      ]
    },
    {
      "cell_type": "code",
      "source": [],
      "metadata": {
        "id": "RJnqLUvmVka3"
      },
      "execution_count": null,
      "outputs": []
    },
    {
      "cell_type": "markdown",
      "source": [
        "**3. Write a python program by using the enumerate() function to get all the indexes for the integer 20 in the “nums” list.**\n",
        "\n",
        "Example 1:\n",
        "Input:\n",
        "[10,15,20,25,30,14,20,19,34,14,20,12]\n",
        "\n",
        "Output:\n",
        "2,6,10,"
      ],
      "metadata": {
        "id": "AxEhIK7TWRx1"
      }
    },
    {
      "cell_type": "code",
      "source": [
        "input = [10,15,20,25,30,14,20,19,34,14,20,12]\n"
      ],
      "metadata": {
        "id": "ER8qbQPiWbU9"
      },
      "execution_count": 12,
      "outputs": []
    },
    {
      "cell_type": "code",
      "source": [
        "lis= []\n",
        "enu=enumerate(input)\n",
        "print(enu)\n",
        "for i in enu:\n",
        "  if i[1] == 20:\n",
        "    print(i[0],end=',')    "
      ],
      "metadata": {
        "colab": {
          "base_uri": "https://localhost:8080/"
        },
        "id": "EVwKA0GTZYOy",
        "outputId": "a25fb465-a68b-4822-8385-ea42de751327"
      },
      "execution_count": 23,
      "outputs": [
        {
          "output_type": "stream",
          "name": "stdout",
          "text": [
            "<enumerate object at 0x7fccd4b48d80>\n",
            "2,6,10,"
          ]
        }
      ]
    },
    {
      "cell_type": "markdown",
      "source": [
        "**4. Write a python program to print fibonacci series upto 15 terms in python.**"
      ],
      "metadata": {
        "id": "X1Y-BqmjbHB2"
      }
    },
    {
      "cell_type": "code",
      "source": [
        "n=15\n",
        "a=0\n",
        "b=1\n",
        "\n",
        "if n==1:\n",
        "  print(a , end=\",\")\n",
        "else:\n",
        "  print(\"Fibonacci Series:\",a , end=\",\")\n",
        "  print(b , end=\",\")\n",
        "for i in range(2,n):\n",
        "  c=a+b\n",
        "  a=b\n",
        "  b=c\n",
        "  print(c , end=\",\")    "
      ],
      "metadata": {
        "colab": {
          "base_uri": "https://localhost:8080/"
        },
        "id": "OcmcUAE9XQFM",
        "outputId": "cf5a8c93-265e-49f2-9abe-15ddfbf125d6"
      },
      "execution_count": 24,
      "outputs": [
        {
          "output_type": "stream",
          "name": "stdout",
          "text": [
            "Fibonacci Series: 0,1,1,2,3,5,8,13,21,34,55,89,144,233,377,"
          ]
        }
      ]
    },
    {
      "cell_type": "code",
      "source": [],
      "metadata": {
        "id": "RWq6qK1PXvyI"
      },
      "execution_count": null,
      "outputs": []
    }
  ]
}